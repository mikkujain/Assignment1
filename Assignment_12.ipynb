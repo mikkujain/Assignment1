{
 "cells": [
  {
   "cell_type": "markdown",
   "metadata": {},
   "source": [
    "# Importing libraries"
   ]
  },
  {
   "cell_type": "code",
   "execution_count": 5,
   "metadata": {},
   "outputs": [],
   "source": [
    "import numpy as np\n",
    "import pandas as pd"
   ]
  },
  {
   "cell_type": "markdown",
   "metadata": {},
   "source": [
    "# Load Datasets from scitic library"
   ]
  },
  {
   "cell_type": "code",
   "execution_count": 9,
   "metadata": {},
   "outputs": [
    {
     "name": "stdout",
     "output_type": "stream",
     "text": [
      "(1797, 64)\n",
      "(1797,)\n"
     ]
    }
   ],
   "source": [
    "from sklearn.datasets import load_digits as ld\n",
    "digits=ld()\n",
    "print(digits.data.shape)\n",
    "print(digits.target.shape)"
   ]
  },
  {
   "cell_type": "markdown",
   "metadata": {},
   "source": [
    "# Spilit the Datasets"
   ]
  },
  {
   "cell_type": "code",
   "execution_count": 7,
   "metadata": {},
   "outputs": [],
   "source": [
    "from sklearn.model_selection import train_test_split as tts\n",
    "train_x,test_x,train_y,test_y=tts(digits.data,digits.target,test_size=0.2)"
   ]
  },
  {
   "cell_type": "markdown",
   "metadata": {},
   "source": [
    "# Using KNN"
   ]
  },
  {
   "cell_type": "code",
   "execution_count": 11,
   "metadata": {},
   "outputs": [
    {
     "data": {
      "text/plain": [
       "KNeighborsClassifier(algorithm='auto', leaf_size=30, metric='minkowski',\n",
       "           metric_params=None, n_jobs=1, n_neighbors=3, p=2,\n",
       "           weights='uniform')"
      ]
     },
     "execution_count": 11,
     "metadata": {},
     "output_type": "execute_result"
    }
   ],
   "source": [
    "from sklearn.neighbors import KNeighborsClassifier\n",
    "kn=KNeighborsClassifier(n_neighbors=3)\n",
    "kn.fit(train_x,train_y)"
   ]
  },
  {
   "cell_type": "markdown",
   "metadata": {},
   "source": [
    "# Predict "
   ]
  },
  {
   "cell_type": "code",
   "execution_count": 12,
   "metadata": {},
   "outputs": [],
   "source": [
    "test_pred=kn.predict(test_x)"
   ]
  },
  {
   "cell_type": "code",
   "execution_count": 13,
   "metadata": {},
   "outputs": [
    {
     "name": "stdout",
     "output_type": "stream",
     "text": [
      "     Actual  predicted\n",
      "0         8          8\n",
      "1         7          7\n",
      "2         2          2\n",
      "3         6          6\n",
      "4         4          4\n",
      "5         9          9\n",
      "6         8          8\n",
      "7         6          6\n",
      "8         6          6\n",
      "9         3          3\n",
      "10        4          4\n",
      "11        3          7\n",
      "12        0          0\n",
      "13        8          8\n",
      "14        1          1\n",
      "15        9          9\n",
      "16        3          3\n",
      "17        3          3\n",
      "18        0          0\n",
      "19        2          2\n",
      "20        8          8\n",
      "21        2          2\n",
      "22        6          6\n",
      "23        8          8\n",
      "24        9          9\n",
      "25        2          2\n",
      "26        2          2\n",
      "27        2          2\n",
      "28        2          2\n",
      "29        8          8\n",
      "..      ...        ...\n",
      "330       0          0\n",
      "331       2          2\n",
      "332       4          4\n",
      "333       5          5\n",
      "334       4          4\n",
      "335       8          8\n",
      "336       6          6\n",
      "337       5          5\n",
      "338       0          0\n",
      "339       7          7\n",
      "340       6          6\n",
      "341       8          8\n",
      "342       4          4\n",
      "343       2          2\n",
      "344       0          0\n",
      "345       7          7\n",
      "346       4          4\n",
      "347       3          3\n",
      "348       6          6\n",
      "349       0          0\n",
      "350       6          6\n",
      "351       6          6\n",
      "352       8          8\n",
      "353       1          1\n",
      "354       3          3\n",
      "355       0          0\n",
      "356       9          9\n",
      "357       6          6\n",
      "358       2          2\n",
      "359       8          8\n",
      "\n",
      "[360 rows x 2 columns]\n"
     ]
    }
   ],
   "source": [
    "result=pd.DataFrame({'Actual':test_y,'predicted':test_pred})\n",
    "print(result)"
   ]
  },
  {
   "cell_type": "markdown",
   "metadata": {},
   "source": [
    "# Accuracy score"
   ]
  },
  {
   "cell_type": "code",
   "execution_count": 18,
   "metadata": {},
   "outputs": [
    {
     "name": "stdout",
     "output_type": "stream",
     "text": [
      "98.61111111111111\n"
     ]
    }
   ],
   "source": [
    "from sklearn.metrics import accuracy_score\n",
    "print(accuracy_score(test_y,test_pred)*100)"
   ]
  }
 ],
 "metadata": {
  "kernelspec": {
   "display_name": "Python 3",
   "language": "python",
   "name": "python3"
  },
  "language_info": {
   "codemirror_mode": {
    "name": "ipython",
    "version": 3
   },
   "file_extension": ".py",
   "mimetype": "text/x-python",
   "name": "python",
   "nbconvert_exporter": "python",
   "pygments_lexer": "ipython3",
   "version": "3.6.5"
  }
 },
 "nbformat": 4,
 "nbformat_minor": 2
}
