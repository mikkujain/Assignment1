{
 "cells": [
  {
   "cell_type": "markdown",
   "metadata": {},
   "source": [
    "# What is the probability of a person playing when the weather is sunny? Find P(Yes|Sunny).\n",
    "                        \n",
    "                                            Weather\tPlay\n",
    "                                            Sunny\tNo\n",
    "                                            Overcast\tYes\n",
    "                                            Rainy\tYes\n",
    "                                            Sunny\tYes\n",
    "                                            Sunny\tYes\n",
    "                                            Overcast\tYes\n",
    "                                            Rainy\tNo\n",
    "                                            Rainy\tNo\n",
    "                                            Sunny\tYes\n",
    "                                            Rainy\tYes\n",
    "                                            Sunny\tNo\n",
    "                                            Overcast\tYes\n",
    "                                            Overcast\tYes\n",
    "                                            Rainy\tNo"
   ]
  },
  {
   "cell_type": "code",
   "execution_count": 3,
   "metadata": {},
   "outputs": [
    {
     "name": "stdout",
     "output_type": "stream",
     "text": [
      "P(Yes|Sunny)= 0.25\n"
     ]
    }
   ],
   "source": [
    "# probality of play yes when the whether is sunny\n",
    "sunny1=2\n",
    "# probality of play no when the whether is sunny\n",
    "sunny2=2\n",
    "# probality of play yes when the whether is Overcast\n",
    "overcast1=4\n",
    "# probality of play no when the whether is Overcast\n",
    "overcast2=0\n",
    "# probality of play yes when the whether is Rainy\n",
    "rainy1=2\n",
    "# probality of play no when the whether is Rainy\n",
    "rainy2=3\n",
    "Total_yes=8\n",
    "Total_no=5\n",
    "\n",
    "#prbaility i.e p(Yes|Sunny)\n",
    "A=sunny1/Total_yes\n",
    "print(\"P(Yes|Sunny)=\",A)\n",
    "\n"
   ]
  },
  {
   "cell_type": "markdown",
   "metadata": {},
   "source": [
    "# importing Libraries"
   ]
  },
  {
   "cell_type": "code",
   "execution_count": 7,
   "metadata": {},
   "outputs": [],
   "source": [
    "import numpy as np\n",
    "import pandas as pd"
   ]
  },
  {
   "cell_type": "markdown",
   "metadata": {},
   "source": [
    "# Load datasets iris from sklearn"
   ]
  },
  {
   "cell_type": "code",
   "execution_count": 2,
   "metadata": {},
   "outputs": [],
   "source": [
    "from sklearn.datasets import load_iris\n",
    "data=load_iris()\n",
    "x=data['data']\n",
    "y=data['target']"
   ]
  },
  {
   "cell_type": "code",
   "execution_count": 17,
   "metadata": {
    "scrolled": true
   },
   "outputs": [],
   "source": [
    "from sklearn.model_selection import train_test_split as tts\n",
    "train_x, test_x, train_y, test_y = tts(x, y, test_size = 0.2)"
   ]
  },
  {
   "cell_type": "code",
   "execution_count": 18,
   "metadata": {},
   "outputs": [
    {
     "data": {
      "text/plain": [
       "GaussianNB(priors=None)"
      ]
     },
     "execution_count": 18,
     "metadata": {},
     "output_type": "execute_result"
    }
   ],
   "source": [
    "from sklearn.naive_bayes import GaussianNB\n",
    "gnb = GaussianNB()\n",
    "gnb.fit(train_x, train_y)"
   ]
  },
  {
   "cell_type": "code",
   "execution_count": 19,
   "metadata": {},
   "outputs": [],
   "source": [
    "ypred = gnb.predict(test_x)"
   ]
  },
  {
   "cell_type": "code",
   "execution_count": 20,
   "metadata": {},
   "outputs": [
    {
     "name": "stdout",
     "output_type": "stream",
     "text": [
      "    Actual  Predicted\n",
      "0        1          1\n",
      "1        1          1\n",
      "2        1          1\n",
      "3        0          0\n",
      "4        0          0\n",
      "5        1          1\n",
      "6        2          2\n",
      "7        0          0\n",
      "8        1          1\n",
      "9        1          1\n",
      "10       1          1\n",
      "11       1          1\n",
      "12       2          2\n",
      "13       0          0\n",
      "14       1          1\n",
      "15       2          2\n",
      "16       0          0\n",
      "17       2          2\n",
      "18       1          1\n",
      "19       0          0\n",
      "20       0          0\n",
      "21       2          2\n",
      "22       0          0\n",
      "23       2          1\n",
      "24       1          2\n",
      "25       2          2\n",
      "26       2          2\n",
      "27       1          1\n",
      "28       2          2\n",
      "29       0          0\n"
     ]
    }
   ],
   "source": [
    "result=pd.DataFrame({'Actual':test_y,'Predicted':ypred})\n",
    "print(result)"
   ]
  },
  {
   "cell_type": "code",
   "execution_count": 21,
   "metadata": {},
   "outputs": [
    {
     "name": "stdout",
     "output_type": "stream",
     "text": [
      "             precision    recall  f1-score   support\n",
      "\n",
      "          0       0.44      0.40      0.42        10\n",
      "          1       0.33      0.44      0.38         9\n",
      "          2       0.44      0.36      0.40        11\n",
      "\n",
      "avg / total       0.41      0.40      0.40        30\n",
      "\n"
     ]
    }
   ],
   "source": [
    "from sklearn.metrics import classification_report as cr, confusion_matrix as cm, r2_score as rs\n",
    "print(cr(y_test,ypred))"
   ]
  },
  {
   "cell_type": "code",
   "execution_count": 22,
   "metadata": {},
   "outputs": [
    {
     "name": "stdout",
     "output_type": "stream",
     "text": [
      "[[4 4 2]\n",
      " [2 4 3]\n",
      " [3 4 4]]\n"
     ]
    }
   ],
   "source": [
    "print(cm(y_test,ypred))"
   ]
  },
  {
   "cell_type": "code",
   "execution_count": 31,
   "metadata": {},
   "outputs": [
    {
     "name": "stdout",
     "output_type": "stream",
     "text": [
      "-57.39268680445153\n"
     ]
    }
   ],
   "source": [
    "print(rs(y_test,ypred)*100)"
   ]
  },
  {
   "cell_type": "markdown",
   "metadata": {},
   "source": [
    "# MNB"
   ]
  },
  {
   "cell_type": "code",
   "execution_count": 24,
   "metadata": {},
   "outputs": [
    {
     "data": {
      "text/plain": [
       "MultinomialNB(alpha=1.0, class_prior=None, fit_prior=True)"
      ]
     },
     "execution_count": 24,
     "metadata": {},
     "output_type": "execute_result"
    }
   ],
   "source": [
    "from sklearn.naive_bayes import MultinomialNB\n",
    "model_MNB=MultinomialNB()\n",
    "\n",
    "model_MNB.fit(train_x,train_y)"
   ]
  },
  {
   "cell_type": "code",
   "execution_count": 25,
   "metadata": {},
   "outputs": [],
   "source": [
    "prediction_MNB=model_MNB.predict(test_x)"
   ]
  },
  {
   "cell_type": "code",
   "execution_count": 26,
   "metadata": {},
   "outputs": [
    {
     "name": "stdout",
     "output_type": "stream",
     "text": [
      "    Actual  Prediction\n",
      "0        1           1\n",
      "1        1           2\n",
      "2        1           1\n",
      "3        0           0\n",
      "4        0           0\n",
      "5        1           2\n",
      "6        2           2\n",
      "7        0           0\n",
      "8        1           1\n",
      "9        1           1\n",
      "10       1           2\n",
      "11       1           1\n",
      "12       2           2\n",
      "13       0           0\n",
      "14       1           1\n",
      "15       2           2\n",
      "16       0           0\n",
      "17       2           2\n",
      "18       1           2\n",
      "19       0           0\n",
      "20       0           0\n",
      "21       2           2\n",
      "22       0           0\n",
      "23       2           2\n",
      "24       1           2\n",
      "25       2           2\n",
      "26       2           2\n",
      "27       1           1\n",
      "28       2           2\n",
      "29       0           0\n"
     ]
    }
   ],
   "source": [
    "results_MNB=pd.DataFrame({'Prediction':prediction_MNB,'Actual':test_y})\n",
    "print(results_MNB)"
   ]
  },
  {
   "cell_type": "code",
   "execution_count": 27,
   "metadata": {},
   "outputs": [
    {
     "name": "stdout",
     "output_type": "stream",
     "text": [
      "             precision    recall  f1-score   support\n",
      "\n",
      "          0       1.00      1.00      1.00         9\n",
      "          1       1.00      0.58      0.74        12\n",
      "          2       0.64      1.00      0.78         9\n",
      "\n",
      "avg / total       0.89      0.83      0.83        30\n",
      "\n"
     ]
    }
   ],
   "source": [
    "print(cr(test_y,prediction_MNB))"
   ]
  },
  {
   "cell_type": "code",
   "execution_count": 29,
   "metadata": {},
   "outputs": [
    {
     "name": "stdout",
     "output_type": "stream",
     "text": [
      "[[9 0 0]\n",
      " [0 7 5]\n",
      " [0 0 9]]\n"
     ]
    }
   ],
   "source": [
    "print(cm(test_y,prediction_MNB))"
   ]
  },
  {
   "cell_type": "code",
   "execution_count": 30,
   "metadata": {},
   "outputs": [
    {
     "name": "stdout",
     "output_type": "stream",
     "text": [
      "72.22222222222221\n"
     ]
    }
   ],
   "source": [
    "print(rs(test_y,prediction_MNB)*100)"
   ]
  }
 ],
 "metadata": {
  "kernelspec": {
   "display_name": "Python 2",
   "language": "python",
   "name": "python2"
  },
  "language_info": {
   "codemirror_mode": {
    "name": "ipython",
    "version": 2
   },
   "file_extension": ".py",
   "mimetype": "text/x-python",
   "name": "python",
   "nbconvert_exporter": "python",
   "pygments_lexer": "ipython2",
   "version": "2.7.15"
  }
 },
 "nbformat": 4,
 "nbformat_minor": 2
}
