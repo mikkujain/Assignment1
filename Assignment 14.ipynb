{
 "cells": [
  {
   "cell_type": "markdown",
   "metadata": {},
   "source": [
    "# importing Libraries"
   ]
  },
  {
   "cell_type": "code",
   "execution_count": 1,
   "metadata": {},
   "outputs": [],
   "source": [
    "import numpy as np\n",
    "import pandas as pd"
   ]
  },
  {
   "cell_type": "markdown",
   "metadata": {},
   "source": [
    "# Loading the datasets from sklearn"
   ]
  },
  {
   "cell_type": "code",
   "execution_count": 2,
   "metadata": {},
   "outputs": [],
   "source": [
    "from sklearn.datasets import load_wine\n",
    "wine=load_wine()\n",
    "x=wine.data\n",
    "y=wine.target"
   ]
  },
  {
   "cell_type": "markdown",
   "metadata": {},
   "source": [
    "# Split the datasets"
   ]
  },
  {
   "cell_type": "code",
   "execution_count": 3,
   "metadata": {},
   "outputs": [],
   "source": [
    "from sklearn.model_selection import train_test_split as tts\n",
    "train_x,test_x,train_y,test_y=tts(x,y,test_size=0.2)"
   ]
  },
  {
   "cell_type": "markdown",
   "metadata": {},
   "source": [
    "# import sklearn libraries"
   ]
  },
  {
   "cell_type": "code",
   "execution_count": 4,
   "metadata": {},
   "outputs": [],
   "source": [
    "from sklearn.svm import SVC\n",
    "from sklearn.metrics import r2_score as rs, confusion_matrix as cm, classification_report as cr"
   ]
  },
  {
   "cell_type": "markdown",
   "metadata": {},
   "source": [
    "# Linear"
   ]
  },
  {
   "cell_type": "code",
   "execution_count": 5,
   "metadata": {},
   "outputs": [
    {
     "data": {
      "text/plain": [
       "SVC(C=1.0, cache_size=200, class_weight=None, coef0=0.0,\n",
       "  decision_function_shape='ovr', degree=8, gamma='auto', kernel='linear',\n",
       "  max_iter=-1, probability=False, random_state=None, shrinking=True,\n",
       "  tol=0.001, verbose=False)"
      ]
     },
     "execution_count": 5,
     "metadata": {},
     "output_type": "execute_result"
    }
   ],
   "source": [
    "Linear = SVC(kernel = 'linear', degree = 8)\n",
    "Linear.fit(train_x, train_y)"
   ]
  },
  {
   "cell_type": "code",
   "execution_count": 6,
   "metadata": {},
   "outputs": [
    {
     "name": "stdout",
     "output_type": "stream",
     "text": [
      "    Actual  Predicted\n",
      "0        0          0\n",
      "1        1          0\n",
      "2        1          1\n",
      "3        1          0\n",
      "4        0          0\n",
      "5        0          0\n",
      "6        1          1\n",
      "7        1          1\n",
      "8        0          0\n",
      "9        2          2\n",
      "10       1          1\n",
      "11       2          2\n",
      "12       0          0\n",
      "13       1          1\n",
      "14       2          2\n",
      "15       1          0\n",
      "16       2          2\n",
      "17       1          1\n",
      "18       0          0\n",
      "19       0          0\n",
      "20       1          1\n",
      "21       0          0\n",
      "22       0          0\n",
      "23       2          2\n",
      "24       0          0\n",
      "25       0          0\n",
      "26       2          2\n",
      "27       0          0\n",
      "28       1          1\n",
      "29       1          1\n",
      "30       0          0\n",
      "31       1          1\n",
      "32       2          2\n",
      "33       0          0\n",
      "34       1          1\n",
      "35       1          1\n"
     ]
    }
   ],
   "source": [
    "pred_linear=Linear.predict(test_x)\n",
    "result=pd.DataFrame({'Actual':test_y,'Predicted':pred_linear})\n",
    "print(result)"
   ]
  },
  {
   "cell_type": "code",
   "execution_count": 7,
   "metadata": {},
   "outputs": [
    {
     "name": "stdout",
     "output_type": "stream",
     "text": [
      "84.72418670438473\n"
     ]
    }
   ],
   "source": [
    "print(rs(test_y,pred_linear)*100)"
   ]
  },
  {
   "cell_type": "code",
   "execution_count": 8,
   "metadata": {},
   "outputs": [
    {
     "name": "stdout",
     "output_type": "stream",
     "text": [
      "[[14  0  0]\n",
      " [ 3 12  0]\n",
      " [ 0  0  7]]\n"
     ]
    }
   ],
   "source": [
    "print(cm(test_y,pred_linear))"
   ]
  },
  {
   "cell_type": "code",
   "execution_count": 9,
   "metadata": {},
   "outputs": [
    {
     "name": "stdout",
     "output_type": "stream",
     "text": [
      "             precision    recall  f1-score   support\n",
      "\n",
      "          0       0.82      1.00      0.90        14\n",
      "          1       1.00      0.80      0.89        15\n",
      "          2       1.00      1.00      1.00         7\n",
      "\n",
      "avg / total       0.93      0.92      0.92        36\n",
      "\n"
     ]
    }
   ],
   "source": [
    "print(cr(test_y,pred_linear))"
   ]
  },
  {
   "cell_type": "markdown",
   "metadata": {},
   "source": [
    "# Poly"
   ]
  },
  {
   "cell_type": "code",
   "execution_count": 10,
   "metadata": {},
   "outputs": [
    {
     "data": {
      "text/plain": [
       "SVC(C=1.0, cache_size=200, class_weight=None, coef0=0.0,\n",
       "  decision_function_shape='ovr', degree=8, gamma='auto', kernel='poly',\n",
       "  max_iter=-1, probability=False, random_state=None, shrinking=True,\n",
       "  tol=0.001, verbose=False)"
      ]
     },
     "execution_count": 10,
     "metadata": {},
     "output_type": "execute_result"
    }
   ],
   "source": [
    "Poly = SVC(kernel = 'poly', degree = 8)\n",
    "Poly.fit(train_x, train_y)"
   ]
  },
  {
   "cell_type": "code",
   "execution_count": 11,
   "metadata": {},
   "outputs": [
    {
     "name": "stdout",
     "output_type": "stream",
     "text": [
      "    Actual  Predicted\n",
      "0        0          1\n",
      "1        1          1\n",
      "2        1          1\n",
      "3        1          1\n",
      "4        0          1\n",
      "5        0          1\n",
      "6        1          1\n",
      "7        1          1\n",
      "8        0          1\n",
      "9        2          2\n",
      "10       1          1\n",
      "11       2          2\n",
      "12       0          1\n",
      "13       1          1\n",
      "14       2          2\n",
      "15       1          1\n",
      "16       2          1\n",
      "17       1          1\n",
      "18       0          2\n",
      "19       0          1\n",
      "20       1          1\n",
      "21       0          1\n",
      "22       0          1\n",
      "23       2          2\n",
      "24       0          1\n",
      "25       0          1\n",
      "26       2          2\n",
      "27       0          1\n",
      "28       1          1\n",
      "29       1          1\n",
      "30       0          1\n",
      "31       1          1\n",
      "32       2          2\n",
      "33       0          2\n",
      "34       1          1\n",
      "35       1          1\n"
     ]
    }
   ],
   "source": [
    "pred_poly=Poly.predict(test_x)\n",
    "result=pd.DataFrame({'Actual':test_y,'Predicted':pred_poly})\n",
    "print(result)"
   ]
  },
  {
   "cell_type": "code",
   "execution_count": 12,
   "metadata": {},
   "outputs": [
    {
     "name": "stdout",
     "output_type": "stream",
     "text": [
      "-6.930693069306915\n"
     ]
    }
   ],
   "source": [
    "print(rs(test_y,pred_poly)*100)"
   ]
  },
  {
   "cell_type": "code",
   "execution_count": 13,
   "metadata": {},
   "outputs": [
    {
     "name": "stdout",
     "output_type": "stream",
     "text": [
      "[[ 0 12  2]\n",
      " [ 0 15  0]\n",
      " [ 0  1  6]]\n"
     ]
    }
   ],
   "source": [
    "print(cm(test_y,pred_poly))"
   ]
  },
  {
   "cell_type": "code",
   "execution_count": 14,
   "metadata": {},
   "outputs": [
    {
     "name": "stdout",
     "output_type": "stream",
     "text": [
      "             precision    recall  f1-score   support\n",
      "\n",
      "          0       0.00      0.00      0.00        14\n",
      "          1       0.54      1.00      0.70        15\n",
      "          2       0.75      0.86      0.80         7\n",
      "\n",
      "avg / total       0.37      0.58      0.45        36\n",
      "\n"
     ]
    },
    {
     "name": "stderr",
     "output_type": "stream",
     "text": [
      "C:\\Users\\mikkujain\\Anaconda2\\lib\\site-packages\\sklearn\\metrics\\classification.py:1135: UndefinedMetricWarning: Precision and F-score are ill-defined and being set to 0.0 in labels with no predicted samples.\n",
      "  'precision', 'predicted', average, warn_for)\n"
     ]
    }
   ],
   "source": [
    "print(cr(test_y,pred_poly))"
   ]
  },
  {
   "cell_type": "markdown",
   "metadata": {},
   "source": [
    "# Gaussian"
   ]
  },
  {
   "cell_type": "code",
   "execution_count": 15,
   "metadata": {},
   "outputs": [
    {
     "data": {
      "text/plain": [
       "SVC(C=1.0, cache_size=200, class_weight=None, coef0=0.0,\n",
       "  decision_function_shape='ovr', degree=8, gamma='auto', kernel='rbf',\n",
       "  max_iter=-1, probability=False, random_state=None, shrinking=True,\n",
       "  tol=0.001, verbose=False)"
      ]
     },
     "execution_count": 15,
     "metadata": {},
     "output_type": "execute_result"
    }
   ],
   "source": [
    "model_Gaussian = SVC(kernel = 'rbf', degree = 8)\n",
    "model_Gaussian.fit(train_x, train_y)"
   ]
  },
  {
   "cell_type": "code",
   "execution_count": 16,
   "metadata": {},
   "outputs": [
    {
     "name": "stdout",
     "output_type": "stream",
     "text": [
      "    Actual  Prediction\n",
      "0        0           1\n",
      "1        1           1\n",
      "2        1           1\n",
      "3        1           1\n",
      "4        0           1\n",
      "5        0           1\n",
      "6        1           1\n",
      "7        1           1\n",
      "8        0           1\n",
      "9        2           1\n",
      "10       1           1\n",
      "11       2           1\n",
      "12       0           0\n",
      "13       1           1\n",
      "14       2           1\n",
      "15       1           1\n",
      "16       2           1\n",
      "17       1           1\n",
      "18       0           1\n",
      "19       0           1\n",
      "20       1           1\n",
      "21       0           1\n",
      "22       0           1\n",
      "23       2           1\n",
      "24       0           0\n",
      "25       0           1\n",
      "26       2           2\n",
      "27       0           1\n",
      "28       1           1\n",
      "29       1           1\n",
      "30       0           1\n",
      "31       1           1\n",
      "32       2           1\n",
      "33       0           1\n",
      "34       1           1\n",
      "35       1           1\n"
     ]
    }
   ],
   "source": [
    "pred_gaussian=model_Gaussian.predict(test_x)\n",
    "result=pd.DataFrame({'Prediction':pred_gaussian,'Actual':test_y})\n",
    "print(result)"
   ]
  },
  {
   "cell_type": "code",
   "execution_count": 17,
   "metadata": {},
   "outputs": [
    {
     "name": "stdout",
     "output_type": "stream",
     "text": [
      "             precision    recall  f1-score   support\n",
      "\n",
      "          0       1.00      0.14      0.25        14\n",
      "          1       0.45      1.00      0.62        15\n",
      "          2       1.00      0.14      0.25         7\n",
      "\n",
      "avg / total       0.77      0.50      0.41        36\n",
      "\n"
     ]
    }
   ],
   "source": [
    "print(cr(test_y,pred_gaussian))"
   ]
  },
  {
   "cell_type": "code",
   "execution_count": 18,
   "metadata": {},
   "outputs": [
    {
     "name": "stdout",
     "output_type": "stream",
     "text": [
      "[[ 2 12  0]\n",
      " [ 0 15  0]\n",
      " [ 0  6  1]]\n"
     ]
    }
   ],
   "source": [
    "print(cm(test_y,pred_gaussian))"
   ]
  },
  {
   "cell_type": "code",
   "execution_count": 19,
   "metadata": {},
   "outputs": [
    {
     "name": "stdout",
     "output_type": "stream",
     "text": [
      "8.345120226308367\n"
     ]
    }
   ],
   "source": [
    "print(rs(test_y,pred_gaussian)*100)"
   ]
  },
  {
   "cell_type": "markdown",
   "metadata": {},
   "source": [
    "# Sigmoid"
   ]
  },
  {
   "cell_type": "code",
   "execution_count": 20,
   "metadata": {},
   "outputs": [
    {
     "data": {
      "text/plain": [
       "SVC(C=1.0, cache_size=200, class_weight=None, coef0=0.0,\n",
       "  decision_function_shape='ovr', degree=8, gamma='auto', kernel='sigmoid',\n",
       "  max_iter=-1, probability=False, random_state=None, shrinking=True,\n",
       "  tol=0.001, verbose=False)"
      ]
     },
     "execution_count": 20,
     "metadata": {},
     "output_type": "execute_result"
    }
   ],
   "source": [
    "model_Sigmoid = SVC(kernel = 'sigmoid', degree = 8)\n",
    "model_Sigmoid.fit(train_x,train_y)"
   ]
  },
  {
   "cell_type": "code",
   "execution_count": 21,
   "metadata": {},
   "outputs": [
    {
     "name": "stdout",
     "output_type": "stream",
     "text": [
      "    Actual  Prediction\n",
      "0        0           1\n",
      "1        1           1\n",
      "2        1           1\n",
      "3        1           1\n",
      "4        0           1\n",
      "5        0           1\n",
      "6        1           1\n",
      "7        1           1\n",
      "8        0           1\n",
      "9        2           1\n",
      "10       1           1\n",
      "11       2           1\n",
      "12       0           1\n",
      "13       1           1\n",
      "14       2           1\n",
      "15       1           1\n",
      "16       2           1\n",
      "17       1           1\n",
      "18       0           1\n",
      "19       0           1\n",
      "20       1           1\n",
      "21       0           1\n",
      "22       0           1\n",
      "23       2           1\n",
      "24       0           1\n",
      "25       0           1\n",
      "26       2           1\n",
      "27       0           1\n",
      "28       1           1\n",
      "29       1           1\n",
      "30       0           1\n",
      "31       1           1\n",
      "32       2           1\n",
      "33       0           1\n",
      "34       1           1\n",
      "35       1           1\n"
     ]
    }
   ],
   "source": [
    "prediction_Sigmoid=model_Sigmoid.predict(test_x)\n",
    "\n",
    "results_Sigmoid=pd.DataFrame({'Prediction':prediction_Sigmoid,'Actual':test_y})\n",
    "print(results_Sigmoid)"
   ]
  },
  {
   "cell_type": "code",
   "execution_count": 22,
   "metadata": {},
   "outputs": [
    {
     "name": "stdout",
     "output_type": "stream",
     "text": [
      "             precision    recall  f1-score   support\n",
      "\n",
      "          0       0.00      0.00      0.00        14\n",
      "          1       0.42      1.00      0.59        15\n",
      "          2       0.00      0.00      0.00         7\n",
      "\n",
      "avg / total       0.17      0.42      0.25        36\n",
      "\n"
     ]
    }
   ],
   "source": [
    "print(cr(test_y,prediction_Sigmoid))"
   ]
  },
  {
   "cell_type": "code",
   "execution_count": 23,
   "metadata": {},
   "outputs": [
    {
     "name": "stdout",
     "output_type": "stream",
     "text": [
      "[[ 0 14  0]\n",
      " [ 0 15  0]\n",
      " [ 0  7  0]]\n"
     ]
    }
   ],
   "source": [
    "print(cm(test_y,prediction_Sigmoid))"
   ]
  },
  {
   "cell_type": "code",
   "execution_count": 24,
   "metadata": {},
   "outputs": [
    {
     "name": "stdout",
     "output_type": "stream",
     "text": [
      "-6.930693069306915\n"
     ]
    }
   ],
   "source": [
    "print(rs(test_y,prediction_Sigmoid)*100)"
   ]
  }
 ],
 "metadata": {
  "kernelspec": {
   "display_name": "Python 2",
   "language": "python",
   "name": "python2"
  },
  "language_info": {
   "codemirror_mode": {
    "name": "ipython",
    "version": 2
   },
   "file_extension": ".py",
   "mimetype": "text/x-python",
   "name": "python",
   "nbconvert_exporter": "python",
   "pygments_lexer": "ipython2",
   "version": "2.7.15"
  }
 },
 "nbformat": 4,
 "nbformat_minor": 2
}
